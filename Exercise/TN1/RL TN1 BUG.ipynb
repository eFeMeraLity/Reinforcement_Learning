{
 "cells": [
  {
   "cell_type": "markdown",
   "metadata": {},
   "source": [
    "# Environment Information\n",
    "* __System__: mac OS Big Sur 11.2.3\n",
    "* __Python__: 3.8\n",
    "* __Packgage__:\n",
    " * __gym__: 0.18.0\n",
    " * __pyglet__: 1.5.0"
   ]
  },
  {
   "cell_type": "markdown",
   "metadata": {
    "collapsed": true,
    "pycharm": {
     "name": "#%% md\n"
    }
   },
   "source": [
    "# ImportError: Can't find framework /System/Library/Frameworks/OpenGL.framework. & ImportError: Error occurred while running `from pyglet.gl import *`\n",
    "\n",
    "https://github.com/pyglet/pyglet/issues/274#issuecomment-727584254\n",
    "\n",
    "* __Error location__:\\\n",
    "While running `env.render()`.\n",
    "\n",
    "\n",
    "* __Error message__:\n",
    "```python\n",
    "ImportError: Can't find framework /System/Library/Frameworks/OpenGL.framework.\n",
    "ImportError: Error occurred while running `from pyglet.gl import *`\n",
    "```\n",
    "\n",
    "* __Solution__:\n",
    " 1. Changing the `find_framework` function in `site-packages/pyglet/lib.py`:\n",
    "```shell\n",
    "vim /usr/local/lib/python3.8/site-packages/pyglet/lib.py\n",
    "```\n",
    "Change\n",
    "```python\n",
    "def find_framework(path):\n",
    "        \"\"\"\n",
    "        Implement runtime framework search as described by:\n",
    "        http://developer.apple.com/library/content/documentation/MacOSX/Conceptual/BPFrameworks/Concepts/FrameworkBinding.html\n",
    "        \"\"\"\n",
    "\n",
    "        # e.g. path == '/System/Library/Frameworks/OpenGL.framework'\n",
    "        #      name == 'OpenGL'\n",
    "        # return '/System/Library/Frameworks/OpenGL.framework/OpenGL'\n",
    "        name = os.path.splitext(os.path.split(path)[1])[0]\n",
    "\n",
    "        realpath = os.path.join(path, name)\n",
    "        if os.path.exists(realpath):\n",
    "            return realpath\n",
    "\n",
    "        for directory in ('/Library/Frameworks', '/System/Library/Frameworks'):\n",
    "            realpath = os.path.join(directory, '%s.framework' % name, name)\n",
    "            if os.path.exists(realpath):\n",
    "                return realpath\n",
    "\n",
    "        return None\n",
    "```\n",
    "to\n",
    "```python\n",
    "def find_framework(path): \n",
    "    return '/System/Library/Frameworks/OpenGL.framework/OpenGL'\n",
    "```\n",
    "A different error then appears:\n",
    "```python\n",
    "ValueError: dlsym(RTLD_DEFAULT, NSEventTrackingRunLoopMode): symbol not found\n",
    "```\n",
    "\n",
    " 2. To solve this problem, change the first line of the section commented as `APPLICATION KIT` (line 197) of `site-packages/pyglet/libs/darwin/cocoapy/cocoalibs.py`:\n",
    "```shell\n",
    "vim /usr/local/lib/python3.8/site-packages/pyglet/libs/darwin/cocoapy/cocoalibs.py\n",
    "```\n",
    "```python\n",
    "appkit = cdll.LoadLibrary('/System/Library/Frameworks/AppKit.framework/AppKit')\n",
    "```"
   ]
  },
  {
   "cell_type": "code",
   "execution_count": null,
   "metadata": {},
   "outputs": [],
   "source": []
  }
 ],
 "metadata": {
  "kernelspec": {
   "display_name": "Python 3",
   "language": "python",
   "name": "python3"
  },
  "language_info": {
   "codemirror_mode": {
    "name": "ipython",
    "version": 3
   },
   "file_extension": ".py",
   "mimetype": "text/x-python",
   "name": "python",
   "nbconvert_exporter": "python",
   "pygments_lexer": "ipython3",
   "version": "3.8.8"
  },
  "toc": {
   "base_numbering": 1,
   "nav_menu": {},
   "number_sections": false,
   "sideBar": true,
   "skip_h1_title": false,
   "title_cell": "Table of Contents",
   "title_sidebar": "Contents",
   "toc_cell": false,
   "toc_position": {},
   "toc_section_display": true,
   "toc_window_display": false
  }
 },
 "nbformat": 4,
 "nbformat_minor": 1
}
