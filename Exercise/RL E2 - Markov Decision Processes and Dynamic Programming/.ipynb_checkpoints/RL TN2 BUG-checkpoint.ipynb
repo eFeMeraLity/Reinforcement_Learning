{
 "cells": [
  {
   "cell_type": "markdown",
   "metadata": {
    "collapsed": true
   },
   "source": [
    "# ModuleNotFoundError: No module named XXX"
   ]
  },
  {
   "cell_type": "markdown",
   "metadata": {},
   "source": [
    "* __Error description__:\\\n",
    "Got `ModuleNotFoundError`, but have installed that module.\n",
    "\n",
    "* __Error message__:\n",
    "```python\n",
    "ModuleNotFoundError: No module named 'gym_gridworld'\n",
    "```\n",
    "\n",
    "* __Solution__:\n",
    "    * In your python file, add\n",
    "    ```python\n",
    "    import sys\n",
    "    sys.path.append(\"your gym_gridworld folder path\")\n",
    "    ```\n",
    "    __Reference__: [机器学习 | ModuleNotFoundError: No module named 'gym'，但是已经安装gym](https://blog.csdn.net/bornfree5511/article/details/105145134/)\n",
    "    * Or if you use PyCharm, go to `Preferences`, install the package in `Project: Python Interpreter`."
   ]
  }
 ],
 "metadata": {
  "kernelspec": {
   "display_name": "Python 3",
   "language": "python",
   "name": "python3"
  },
  "language_info": {
   "codemirror_mode": {
    "name": "ipython",
    "version": 3
   },
   "file_extension": ".py",
   "mimetype": "text/x-python",
   "name": "python",
   "nbconvert_exporter": "python",
   "pygments_lexer": "ipython3",
   "version": "3.8.8"
  },
  "toc": {
   "base_numbering": 1,
   "nav_menu": {},
   "number_sections": false,
   "sideBar": true,
   "skip_h1_title": false,
   "title_cell": "Table of Contents",
   "title_sidebar": "Contents",
   "toc_cell": false,
   "toc_position": {},
   "toc_section_display": true,
   "toc_window_display": false
  }
 },
 "nbformat": 4,
 "nbformat_minor": 1
}
