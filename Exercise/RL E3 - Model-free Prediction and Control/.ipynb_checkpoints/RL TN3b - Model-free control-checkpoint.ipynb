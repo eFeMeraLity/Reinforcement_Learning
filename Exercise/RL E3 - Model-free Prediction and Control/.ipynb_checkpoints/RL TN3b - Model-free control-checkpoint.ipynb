{
 "cells": [
  {
   "cell_type": "markdown",
   "metadata": {},
   "source": [
    "# Tinkering Notebook 3b: Model-free control\n",
    "\n",
    "In this notebook we will test model-free control. We will implement and use SARSA and Q-learning. If you are interested you can also try to implement Monte Carlo-control, but this method will not work very well on the environments we study in this notebook.\\\n",
    "在本笔记本中，我们将测试无模型控制。我们将实施和使用SARSA和Q-learning。如果你有兴趣，你也可以尝试实现Monte Carlo控制，但这种方法将不能很好地工作在我们在本笔记本中研究的环境。\n",
    "\n",
    "**Lecture 5 - Model-free control**\n",
    "__Recommended Reading:__ 5.2-5.4, 6.4-6.5"
   ]
  },
  {
   "cell_type": "markdown",
   "metadata": {},
   "source": [
    "# Table of content\n",
    "* ### [1. Imports](#sec1)\n",
    "* ### [2. A note on time limits in OpenAI gym](#sec2)\n",
    " * #### [2.1 \\*How to handle actual time limits](#sec2_1)\n",
    "* ### [3. Helper functions](#sec3)\n",
    "* ### [4. SARSA](#sec4)\n",
    " * #### [4.1 SARSA on Example 3.5](#sec4_1)\n",
    " * #### [4.2 Example 6.5: Windy Grid World](#sec4_2)\n",
    "* ### [5. Q-learning](#sec5)\n",
    " * #### [5.1 Example 6.6.](#sec5_1)\n",
    "* ### [6. A note on exploration](#sec6)\n",
    "* ### [7. \\* MountainCar-v0](#sec7)\n"
   ]
  },
  {
   "cell_type": "markdown",
   "metadata": {},
   "source": [
    "# 1. Imports <a id=\"sec1\">"
   ]
  },
  {
   "cell_type": "code",
   "execution_count": 1,
   "metadata": {},
   "outputs": [],
   "source": [
    "import sys\n",
    "package = \"/Users/lmf/PycharmProjects/MSc_DS/Python/Package/gym-gridworld\"\n",
    "sys.path.append(package)"
   ]
  },
  {
   "cell_type": "code",
   "execution_count": 2,
   "metadata": {
    "pycharm": {
     "name": "#%%\n"
    }
   },
   "outputs": [],
   "source": [
    "import gym\n",
    "import numpy as np\n",
    "import time\n",
    "import random\n",
    "import matplotlib.pyplot as plt\n",
    "from IPython import display\n",
    "%matplotlib inline\n",
    "\n",
    "import gym_gridworld\n",
    "import gymgrid\n",
    "from IPython.display import clear_output # Used to clear the ouput of a Jupyter cell."
   ]
  },
  {
   "cell_type": "markdown",
   "metadata": {},
   "source": [
    "# 2. A note on time limits in OpenAI gym <a id=\"sec2\">"
   ]
  },
  {
   "cell_type": "markdown",
   "metadata": {},
   "source": [
    "In an episodic MDP, the episode will end when (and only when) a terminal state is reached. In a continuing environment, there are no terminal states so it will never stop.\\\n",
    "在episodic MDP中，当（且仅当）到达一个终止状态时，该episode将结束。在一个持续的环境中，没有终止状态，所以它永远不会停止。\n",
    "\n",
    "However, some of the OpenAI gym environments we will study in this notebook stops after a time limit (typically 200 time steps) even if we do not reach a terminal state. It should be noted that this does not mean that the episode has ended in the MDP-sense, since we did not reach a terminal state!\\\n",
    "然而，我们将在本笔记本中学习的一些OpenAI gym环境在一个时间限制（通常是200个时间步）后停止，即使我们没有达到一个终止状态。需要指出的是，这并不意味着这一事件已经在MDP意义上结束了，因为我们没有达到一个终止状态！\n",
    "\n",
    "This is mainly a problem in Monte-Carlo control. Here we first collect the data of a full episode before we do any learning. If the OpenAI gym environment stops due to the time limit, we did not actually get a full episode trajectory!\\\n",
    "这主要是Monte-Carlo控制中的一个问题。在这里，在我们进行任何学习之前，我们首先收集一个完整的episode的数据。如果OpenAI gym的环境由于时间限制而停止，我们实际上并没有得到完整的episode轨迹！\n",
    "\n",
    "In this notebook we will look at SARSA and $Q$-learning. In these cases it is not a problem that the episode terminates prematurely, since we only use 1-step transitions in the updates.\\\n",
    "在本笔记中，我们将学习SARSA和$Q$-learning。在这些情况下，episode提前终止并不是问题，因为我们在更新中只使用了1步转换。"
   ]
  },
  {
   "cell_type": "markdown",
   "metadata": {},
   "source": [
    "## 2.1 \\*How to handle actual time limits <a id=\"sec2_1\">"
   ]
  },
  {
   "cell_type": "markdown",
   "metadata": {},
   "source": [
    "In the environments we will study in this notebook it makes sense to treat the time limits in OpenAI gym as artificially stopping the environment before the episode was done.\\\n",
    "在我们将在本笔记本中学习的环境中，将OpenAI gym的时间限制视为在episode结束前人为地停止环境是有意义的。\n",
    "\n",
    "But there are tasks where the time-limit itself is important. Lets say the task is for a humanoid robot to run as far as possible in 60s. Optimizing this would lead to different behavior depending on the time: In the beginning it is important for the robot to not fall down, but towards the end of the 60s it may be a good idea to be more aggressive even if this would mean that the robot falls down after the 60s are over (throwing itself over the finish line).\\\n",
    "但有些任务的时限本身很重要。假设任务是让一个人形机器人在60秒内跑得尽可能远。优化这将导致取决于时间的不同行为：一开始机器人不跌倒是很重要的，但到60秒末，变得更积极可能是一个好主意，即使这将意味着机器人在60s结束后跌倒（将其自身扔超过终点线）。\n",
    "\n",
    "To encode this into an MDP, we would have to include e.g. \"time left\" in the state. Then any state with \"time left = 0\" is a terminating state. Without this the state would not have the Markov-property, and a policy $\\pi(a|s)$ could not know if we are in the beginning of the race or if we are close to the end of the 60s.\\\n",
    "要将其编码为MDP，我们必须包括例如在某状态的“剩余时间”。那么任何“剩余时间 = 0”的状态都是终止状态。没有这一点，状态就没有Markov性质，而且一个策略$\\pi(一个|s)$就不能知道我们是在比赛的开始还是接近60秒末。"
   ]
  },
  {
   "cell_type": "markdown",
   "metadata": {},
   "source": [
    "# 3. Helper functions <a id=\"sec3\">"
   ]
  },
  {
   "cell_type": "markdown",
   "metadata": {},
   "source": [
    "We here define a function `test_policy` that can be used to see the policy we have found in action. It takes an agent and an environment, and runs the agents policy on the environment for one episode while rendering (no learning). It renders the environment and returns the total reward received. If you do not want to render the environment, add `render = False` as an argument. It will run until the episode is done or `max_steps` (default 40) has been taken.\\\n",
    "我们在这里定义了一个函数`test_policy`，它可以用来查看我们发现的实际策略。它需要一个agent和一个环境，并在渲染（不学习）的情况下，在环境中运行一次episode的agent策略。它呈现环境并返回所获得的全部reward。如果你不想渲染环境，可以添加`render = False`作为参数。它将一直运行，直到该episode完成或执行了`max_steps`（默认为40）次。"
   ]
  },
  {
   "cell_type": "markdown",
   "metadata": {},
   "source": [
    "## __Code:__ Funtion `test_policy`"
   ]
  },
  {
   "cell_type": "code",
   "execution_count": 3,
   "metadata": {
    "pycharm": {
     "name": "#%%\n"
    }
   },
   "outputs": [],
   "source": [
    "def test_policy(agent, env, wait = 0.1, max_steps = 40, render = True):\n",
    "    state = env.reset()\n",
    "    step = 0\n",
    "    total_reward = 0\n",
    "    done = False\n",
    "    while not done and step < max_steps:\n",
    "        action = agent.act(state)\n",
    "        state, reward, done, info = env.step(action)\n",
    "        total_reward += reward\n",
    "        step += 1\n",
    "        \n",
    "        if render:\n",
    "            clear_output(wait=True)\n",
    "            env.render()\n",
    "            # Show some information\n",
    "            print(\"Time step:\", step)\n",
    "            print(\"Reward:\", reward)\n",
    "            print(\"Total reward:\", total_reward)\n",
    "            time.sleep(wait)\n",
    "    env.close()\n",
    "    return total_reward"
   ]
  },
  {
   "cell_type": "markdown",
   "metadata": {},
   "source": [
    "# 4. SARSA <a id=\"sec4\">"
   ]
  },
  {
   "cell_type": "markdown",
   "metadata": {},
   "source": [
    "In this section we will implement and try out SARSA-control.\\\n",
    "在本节中，我们将实现并尝试SARSA-控制。\n",
    "\n",
    "We first implement the function `train_sarsa` with the arguments\\\n",
    "我们首先实现函数`train_sarsa`，其具有下述参数\n",
    "* `agent` - Should be an object with the methods `act` that implements the current policy, and `learn` that is used to update the estimated `Q`.\\\n",
    "应该是一个对象，其具有实现当前策略的`act`方法，和用于更新估计`Q`的`learn`方法。\n",
    "* `env` - The environment\\\n",
    "环境\n",
    "* `n_episodes` - The number of episodes we should use to train the agent\n",
    "我们应该用来训练agent的episode数目\n",
    "* `max_steps` - If the total number of steps taken is larger than `max_steps` we will stop the training even if we have not finished `n_episodes`.\\\n",
    "如果总步骤数大于`max_steps`，即使没有完成`n_episodes`，我们也会停止训练。\n",
    "\n",
    "The function also computes an array `steps` that shows the total number of time steps that have been used after each episode, and `total_rewards` that gives the total reward for each episode.\\\n",
    "该函数还计算了一个数组`steps`，它显示了每一个episode之后使用的总时间步长，以及`total_rewards`，它给出了每一个episode的总奖励。\n",
    "\n",
    "**Task:** Read the code, and compare it with the pseudo-code for SARSA seen in the slides of Lecture 3. Make sure that you understand it.\\\n",
    "阅读代码，并将其与第三节课幻灯片中看到的SARSA伪代码进行比较。确保你理解了它。"
   ]
  },
  {
   "cell_type": "code",
   "execution_count": 4,
   "metadata": {
    "pycharm": {
     "name": "#%%\n"
    }
   },
   "outputs": [],
   "source": [
    "def train_sarsa(agent, env, n_episodes, max_steps = 50000):\n",
    "    step = 0\n",
    "    steps = np.zeros(n_episodes) # Steps after each episode\n",
    "    total_rewards = np.zeros(n_episodes)\n",
    "    for i in range(n_episodes):\n",
    "        state = env.reset()\n",
    "        action = agent.act(state)\n",
    "        rewards = 0\n",
    "        done = False\n",
    "        while not done:\n",
    "            state_next, reward, done, info = env.step(action)\n",
    "            action_next = agent.act(state_next)\n",
    "            agent.learn(state, action, reward, state_next, action_next)\n",
    "            state = state_next\n",
    "            action = action_next\n",
    "            step += 1\n",
    "            rewards += reward\n",
    "            \n",
    "            if step > max_steps:\n",
    "                return total_rewards, steps\n",
    "            \n",
    "        steps[i] = step\n",
    "        total_rewards[i] = rewards\n",
    "    return total_rewards, steps"
   ]
  },
  {
   "cell_type": "markdown",
   "metadata": {},
   "source": [
    "We next define the class `SARSA` that implements the agent.\\\n",
    "接下来我们定义实现agent的类`SARSA`。\n",
    "\n",
    "## **Task:** Implement SARSA\n",
    "1. Implement a policy in `act` that is $\\varepsilon$-greedy w.r.t `self.Q`. ($\\varepsilon$ = `self.epsilon`)\\\n",
    "在`act`中实现一个对`self.Q`的$\\varepsilon$贪婪的策略。（$\\varepsilon$ = `self.epsilon`）\n",
    "\n",
    "2. Implement the SARSA-update of $Q$ in `learn`.\\\n",
    "在`learn`中实现$Q$的SARSA更新。"
   ]
  },
  {
   "cell_type": "code",
   "execution_count": 5,
   "metadata": {
    "pycharm": {
     "name": "#%%\n"
    }
   },
   "outputs": [],
   "source": [
    "class SARSA():\n",
    "    def __init__(self, n_states, n_actions, gamma, alpha, epsilon):\n",
    "        self.n_states = n_states\n",
    "        self.n_actions = n_actions\n",
    "        self.gamma = gamma\n",
    "        self.alpha = alpha\n",
    "        self.epsilon = epsilon\n",
    "        self.Q = np.zeros((n_states, n_actions))\n",
    "        \n",
    "    def act(self, state):\n",
    "        # You can use np.random.choice(self.n_actions) to get a random action\n",
    "        # Implement epsilon-greedy policy\n",
    "        if np.random.random() > self.epsilon:\n",
    "            action = np.argmax(self.Q[state])\n",
    "        else:\n",
    "            action = np.random.choice(self.n_actions) # Random action\n",
    "        return action\n",
    "            \n",
    "    def learn(self, s, a, r, s_next, a_next):\n",
    "        # Implement the TD(0) update of Q (see equation (6.7) in textbook)\n",
    "        self.Q[s][a] += self.alpha * (r + self.gamma*self.Q[s_next][a_next] - self.Q[s][a])"
   ]
  },
  {
   "cell_type": "markdown",
   "metadata": {},
   "source": [
    "## 4.1 SARSA on Example 3.5 <a id=\"sec4_1\">"
   ]
  },
  {
   "cell_type": "markdown",
   "metadata": {},
   "source": [
    "Here we will try SARSA on the `GridWorld-5x5-AB-v0`. The environment is described in Example 3.5 in the textbook, and the optimal policy is shown in Figure 3.5. This is a continuing environment, so there is no terminal state. However, as discussed above, the OpenAI Gym environment will still stop after 200 time steps due to a time limit.\\\n",
    "这里，我们将在`GridWorld-5x5-AB-v0`上尝试SARSA。环境的描述如教材中的例3.5所示，最优策略如图3.5所示。这是一个持续的环境，所以没有终止状态。但是，如上所述，由于时间限制，OpenAI Gym的环境在200个时间步后仍然会停止。\n",
    "\n",
    "**Note on exploration:** When a relatively good policy is found, the agent will keep moving from $A'$ to $A$, with the occasional random action due to the $\\varepsilon$-greedy policy. Hence, we will mainly learn about these states. However, when we reset the environment we restart at a random state, and thus resetting the environment helps with exploration. Here we will reset the environment after 200 time steps.\\\n",
    "当发现一个相对好的策略时，agent将不断从$A'$移动到$A$，由于$\\varepsilon$贪婪粗略，偶尔会有随机动作。因此，我们将主要学习这些状态。然而，当我们重置环境时，我们会以随机状态重新开始，因此重置环境有助于探索。在这里，我们将在200个时间步后重置环境。"
   ]
  },
  {
   "cell_type": "markdown",
   "metadata": {},
   "source": [
    "In this environment the discount is $\\gamma = 0.9$. Lets try to the step size $\\alpha = 0.1$ and exploration rate $\\varepsilon = 0.2$.\\\n",
    "在这个环境中，折现率是$\\gamma = 0.9$。让我们尝试步长$\\alpha = 0.1$和探索率$\\varepsilon = 0.2$。"
   ]
  },
  {
   "cell_type": "code",
   "execution_count": 6,
   "metadata": {
    "pycharm": {
     "name": "#%%\n"
    }
   },
   "outputs": [],
   "source": [
    "env = gym.make('GridWorld-5x5-AB-v0') # the same as in Example 3.5\n",
    "agent = SARSA(env.observation_space.n, env.action_space.n, gamma = 0.9, alpha = 0.1, epsilon = 0.1)"
   ]
  },
  {
   "cell_type": "markdown",
   "metadata": {},
   "source": [
    "We now train train the agent. \n",
    "\n",
    "**Note:** If you run the cell below again without resetting the agent, you will continue from your already estimated $Q$. That is, running the cell below two times effectively doubles the number of time steps.\\\n",
    "如果您再次运行下面的单元格而不重新设置agent，则将从已经估算的$Q$继续。也就是说，运行下面的单元格两次，有效地增加了一倍的时间步长。"
   ]
  },
  {
   "cell_type": "code",
   "execution_count": 7,
   "metadata": {
    "pycharm": {
     "name": "#%%\n"
    }
   },
   "outputs": [],
   "source": [
    "n_resets = 1000 # Train with n_resets * 200 time steps\n",
    "rewards, _ = train_sarsa(agent, env, n_resets, max_steps = n_resets*200) "
   ]
  },
  {
   "cell_type": "markdown",
   "metadata": {},
   "source": [
    "We next plot the total reward for each 200 times steps (before we reset). This should hopefully show that the total reward may start at a very small level, but that it will increase as the agent learns more.\\\n",
    "接下来我们将绘制每个200次步骤的总reward（在我们重置之前）。这将有望表明，总reward可能从一个非常小的水平开始，但它将随着agent学习的更多而增加。"
   ]
  },
  {
   "cell_type": "code",
   "execution_count": 8,
   "metadata": {
    "pycharm": {
     "name": "#%%\n"
    },
    "scrolled": true
   },
   "outputs": [
    {
     "data": {
      "image/png": "[encoded data removed]",
      "text/plain": [
       "<Figure size 432x288 with 1 Axes>"
      ]
     },
     "metadata": {
      "needs_background": "light"
     },
     "output_type": "display_data"
    }
   ],
   "source": [
    "plt.plot(range(1, n_resets+1), rewards)\n",
    "plt.xlabel(\"Number of resets\")\n",
    "plt.ylabel(\"Total reward over 200 time steps\");"
   ]
  },
  {
   "cell_type": "markdown",
   "metadata": {},
   "source": [
    "We next test to see how the policy works in practice. Note that we are still using the $\\varepsilon$-greedy policy in `agent`, so it will choose a random action with probability $\\varepsilon$.\\\n",
    "我们接下来要测试一下该策略在实践中是如何运作的。注意，我们仍然在`agent`中使用$\\varepsilon$贪婪策略，因此它将以概率$\\varepsilon$选择一个随机行为。\n",
    "\n",
    "The main reason for using an $\\varepsilon$-greedy policy is to ensure that the agent explores while it trains. Here we want to evaluate the policy that the agent has learned, and it thus makes sense to set the exploration to zero ($\\varepsilon = 0$) and hence use the greedy policy w.r.t the estimated $Q$. (However, if you will continue to train after this, you should add exploration again)\\\n",
    "使用$\\varepsilon$贪婪策略的主要原因是确保agent在训练时进行探索。在这里，我们希望评估agent已经学习到的策略，因此将探索设置为零（$\\varepsilon = 0$）是有意义的，因此使用关于估计$Q$的贪婪策略。（然而，如果你想在此之后继续训练，你应该再次添加探索）\n",
    "\n",
    "**Task:** Test your policy both with the $\\varepsilon$-greedy policy you trained your policy with, and the greedy policy ($\\varepsilon = 0$).\\\n",
    "测试您的策略，使用$\\varepsilon$贪婪策略和贪婪策略($\\varepsilon = 0$)。"
   ]
  },
  {
   "cell_type": "code",
   "execution_count": 9,
   "metadata": {
    "pycharm": {
     "name": "#%%\n"
    }
   },
   "outputs": [
    {
     "name": "stdout",
     "output_type": "stream",
     "text": [
      "  (Up)\n",
      "FAFBF\n",
      "FFFFF\n",
      "FFFbF\n",
      "F\u001b[41mF\u001b[0mFFF\n",
      "FaFFF\n",
      "Time step: 40\n",
      "Reward: 0.0\n",
      "Total reward: 80.0\n"
     ]
    }
   ],
   "source": [
    "agent.epsilon = 0\n",
    "test_policy(agent, env, max_steps=40)\n",
    "agent.epsilon = 0.2"
   ]
  },
  {
   "cell_type": "markdown",
   "metadata": {},
   "source": [
    "If you only trained with $100 \\times 200$ time steps, it is common that SARSA find a greedy policy that sometimes ends up going from b to B over and over again. This is not optimal, since going from $a$ to $A$ gives a higher reward. Try to increase the number of time steps you use in training to see if you can get a better result!\\\n",
    "如果你只用$100 \\times 200$的时间步来训练，SARSA通常会发现一个贪婪的策略，有时会一遍又一遍地从b到B。这不是最理想的，因为从$a$到$A$会带来更高的奖励。试着增加你在训练中使用的时间步数，看看你是否能得到更好的结果!\n",
    "\n",
    "We can also visualize the greedy policy w.r.t $Q$ with the following function.\\\n",
    "我们还可以用下面的函数来可视化关于$Q$的贪婪策略。"
   ]
  },
  {
   "cell_type": "markdown",
   "metadata": {},
   "source": [
    "## __Code__: Function `render_greedy_policy` to visualize the greedy policy"
   ]
  },
  {
   "cell_type": "code",
   "execution_count": 10,
   "metadata": {
    "pycharm": {
     "name": "#%%\n"
    }
   },
   "outputs": [],
   "source": [
    "def render_greedy_policy(Q):\n",
    "    # Prints an illustration of the greedy policy with respect to Q\n",
    "    n_states = Q.shape[0]\n",
    "    greedy = np.full(n_states, 'L') \n",
    "    for s in range(n_states):\n",
    "            a = np.argmax(Q[s,:])\n",
    "            if a == 0:\n",
    "                greedy[s] = 'L'\n",
    "            elif a == 1:\n",
    "                greedy[s] = 'D'\n",
    "            elif a == 2:\n",
    "                greedy[s] = 'R'\n",
    "            elif a == 3:\n",
    "                greedy[s] = 'U'\n",
    "\n",
    "    print(greedy.reshape(5,5))"
   ]
  },
  {
   "cell_type": "code",
   "execution_count": 11,
   "metadata": {
    "pycharm": {
     "name": "#%%\n"
    }
   },
   "outputs": [
    {
     "name": "stdout",
     "output_type": "stream",
     "text": [
      "[['D' 'D' 'L' 'L' 'L']\n",
      " ['R' 'U' 'L' 'L' 'L']\n",
      " ['R' 'U' 'U' 'U' 'L']\n",
      " ['R' 'U' 'U' 'U' 'U']\n",
      " ['U' 'U' 'U' 'L' 'L']]\n"
     ]
    }
   ],
   "source": [
    "render_greedy_policy(agent.Q)"
   ]
  },
  {
   "cell_type": "markdown",
   "metadata": {},
   "source": [
    "**Task:** Compare the greedy policy found by SARSA with the optimal policy found in Figure 3.5 in the textbook. If the policy you have found is not optimal, then train it some more!\\\n",
    "比较SARSA发现的贪心策略与教材图3.5中发现的最优策略。如果你发现的策略不是最优的，那么再多训练一下!"
   ]
  },
  {
   "cell_type": "markdown",
   "metadata": {},
   "source": [
    "## 4.2 Example 6.5: Windy Grid World <a id=\"sec4_2\">"
   ]
  },
  {
   "cell_type": "markdown",
   "metadata": {},
   "source": [
    "In this section we will try out Example 6.5 in the textbook. To do so, we use the `gymgrid` package.\\\n",
    "本节我们将试用教材中的例6.5。为此，我们使用`gymgrid`包。\n",
    "    \n",
    "In this environment we have a $7 \\times 10$ grid, with a starting point and a goal. It is a windy grid world, since in some of the columns the agent will get pushed up when it takes an action. See Example 6.5 for a detailed explanation.\\\n",
    "在这个环境中，我们有一个$7 \\times 10$的网格，有一个起点和一个目标。这是一个有风的网格世界，因为在一些列中，当agent采取行动时，它将被推up。详细解释请参见示例6.5。\n",
    "\n",
    "Lets look at the state and action spaces of the environment.\\\n",
    "让我们来看看环境的状态和行动空间。"
   ]
  },
  {
   "cell_type": "code",
   "execution_count": 12,
   "metadata": {
    "pycharm": {
     "name": "#%%\n"
    },
    "scrolled": true
   },
   "outputs": [
    {
     "name": "stdout",
     "output_type": "stream",
     "text": [
      "State space:  Discrete(70)\n",
      "Action space:  Discrete(8)\n"
     ]
    }
   ],
   "source": [
    "env = gym.make('windy-grid-world-v0')\n",
    "print(\"State space: \", env.observation_space)\n",
    "print(\"Action space: \", env.action_space)"
   ]
  },
  {
   "cell_type": "markdown",
   "metadata": {},
   "source": [
    "* **State space**: The 70 states corresponds to the 70 different possible positions of the agent.\\\n",
    "70个状态对应于70个agent可能的不同位置。\n",
    "* **Action space**: This environment implements the version in Exercise 6.9. The actions corresponds to\\\n",
    "这个环境实现了示例6.9中的版本。动作对应于\n",
    "0 - West<br>\n",
    "1 - East<br>\n",
    "2 - North<br>\n",
    "3 - South<br>\n",
    "4 - North west<br>\n",
    "5 - North east<br>\n",
    "6 - South west<br>\n",
    "7 - South east<br>\n",
    "In order to implement Example 6.5 you should only allow the agent to use the first four actions. To try out Exercise 6.9 you allow the agent to use all actions. This means that we should use four possible actions in SARSA to get Example 6.5.\\\n",
    "为了实现示例6.5，您应该只允许agent使用前四个操作。要尝试示例6.9，您允许agent使用所有操作。这意味着我们应该在SARSA中使用四种可能的操作来获得示例6.5。\n",
    "\n",
    "* **Reward**: The agent gets a reward of -1 for each action, and we consider this to be an undiscounted task ($\\gamma = 1$), so the objective of the agent is just to reach the goal in as few steps as possible. For Example 6.5 (four actions) the optimal policy uses 15 steps. This environment do not have any time-limits implemented, so it will continue until the terminal state (goal) is reached!\\\n",
    "agent每次行动都会得到-1的奖励，我们认为这是一个未折现的任务($\\gamma = 1$)，所以agent的目标是尽可能少的步骤达到目标。例如，6.5（四个动作）最优策略使用了15个步骤。这个环境没有实现任何时间限制，所以它会一直运行，直到达到终止状态（目标）！\n",
    "\n",
    "We will first try out the agent using the exact same setting as in Example 6.5 ($\\alpha = 0.5$ and $\\varepsilon=0.1$), training the agent using 170 episodes. However note that, due to the use of random actions, you will not get exactly the same result as in Example 6.5 every time. If you are unlucky, you may even get a policy that have a hard time reaching the goal.\\\n",
    "我们将首先使用示例6.5中完全相同的设置（$\\alpha = 0.5$和$\\varepsilon=0.1$）来测试agent，使用170个episode来训练agent。但是请注意，由于使用了随机操作，您不会每次都得到与示例6.5完全相同的结果。如果你不幸，你甚至可能会得到一份很难达到目标的政策。\n",
    "Note that we set the number of actions to 4, to ensure that the agent only use West, East, North or South.\\\n",
    "注意，我们将操作数设置为4，以确保agent只使用西、东、北或南。"
   ]
  },
  {
   "cell_type": "code",
   "execution_count": 13,
   "metadata": {
    "pycharm": {
     "name": "#%%\n"
    }
   },
   "outputs": [],
   "source": [
    "# Exercise 6.5\n",
    "agent = SARSA(env.observation_space.n, 4, gamma = 1, alpha = 0.5, epsilon = 0.1)"
   ]
  },
  {
   "cell_type": "code",
   "execution_count": 14,
   "metadata": {},
   "outputs": [],
   "source": [
    "# Exercise 6.9\n",
    "agent = SARSA(env.observation_space.n, env.action_space.n, gamma = 1, alpha = 0.5, epsilon = 0.1)"
   ]
  },
  {
   "cell_type": "markdown",
   "metadata": {},
   "source": [
    "Next we train the agent. \n",
    "\n",
    "**Note:** If you rerun the cell below, without resetting (creating a new) agent, you will start from the Q-table you previously trained. That is, you will effectively double the number of training episodes.\\\n",
    "如果您重新运行下面的单元格，而没有重新设置（创建一个新的）agent，那么您将从以前训练过的Q表开始。也就是说，你将有效地将培训集的数量翻倍。"
   ]
  },
  {
   "cell_type": "code",
   "execution_count": 15,
   "metadata": {
    "pycharm": {
     "name": "#%%\n"
    }
   },
   "outputs": [],
   "source": [
    "n_episodes = 200\n",
    "rewards, steps = train_sarsa(agent, env, n_episodes); "
   ]
  },
  {
   "cell_type": "markdown",
   "metadata": {},
   "source": [
    "To get a plot similar to the one in Example 6.5, you can run:"
   ]
  },
  {
   "cell_type": "code",
   "execution_count": 16,
   "metadata": {
    "pycharm": {
     "name": "#%%\n"
    }
   },
   "outputs": [
    {
     "data": {
      "image/png": "[encoded data removed]",
      "text/plain": [
       "<Figure size 432x288 with 1 Axes>"
      ]
     },
     "metadata": {
      "needs_background": "light"
     },
     "output_type": "display_data"
    }
   ],
   "source": [
    "plt.plot(steps, range(steps.shape[0]))\n",
    "plt.xlabel('Time steps')\n",
    "plt.ylabel('Episodes');"
   ]
  },
  {
   "cell_type": "markdown",
   "metadata": {},
   "source": [
    "To see the policy in action we can use `test_policy`. \n",
    "\n",
    "As in the previous example, `test_policy` will use the $\\varepsilon$-greedy policy. To also see the greedy policy w.r.t $Q$ in action, first set `agent.epsilon = 0`.\\\n",
    "在前面的例子中，test_policy将使用$\\varepsilon$贪婪策略。为了也要看关于$Q$的贪婪策略在行动，首先设置`agent.epsilon = 0`。\n",
    "\n",
    "**Task:** Run the $\\varepsilon$-greedy you trained with a few times, and then try the greedy policy ($\\varepsilon = 0$). If your policy did not succeed, try to train it again (or just increase the number of training episodes).\\\n",
    "运行您多次训练过的$\\varepsilon$贪婪策略，然后尝试贪婪策略（$\\varepsilon = 0$）。如果你的策略没有成功，试着再训练一次（或者增加训练的次数）。"
   ]
  },
  {
   "cell_type": "code",
   "execution_count": 17,
   "metadata": {
    "pycharm": {
     "name": "#%%\n"
    }
   },
   "outputs": [
    {
     "name": "stdout",
     "output_type": "stream",
     "text": [
      "Time step: 7\n",
      "Reward: -1\n",
      "Total reward: -7\n"
     ]
    }
   ],
   "source": [
    "agent.epsilon = 0\n",
    "test_policy(agent, env, max_steps=40)\n",
    "agent.epsilon = 0.1"
   ]
  },
  {
   "cell_type": "markdown",
   "metadata": {},
   "source": [
    "### Task:\n",
    "\n",
    "Do Exercise 6.9 (i.e. let the agent use all possible 8 actions instead of just the first 4). Before you try this out, look at the example and see if you can find a better policy when all actions are allowed. How many steps are needed with all actions available? Then try to train an agent using SARSA to find this policy.\\\n",
    "执行练习6.9（即让agent使用所有可能的8个动作，而不只是前4个）。在你尝试之前，看看这个例子，看看你是否能找到一个更好的策略，当所有动作都被允许时。所有可用的操作需要多少步骤？然后试着训练一个使用SARSA的代理来找到这个策略。"
   ]
  },
  {
   "cell_type": "markdown",
   "metadata": {},
   "source": [
    "# 5. Q-learning <a id=\"sec5\">"
   ]
  },
  {
   "cell_type": "markdown",
   "metadata": {},
   "source": [
    "We now implement $Q$-learning. We first define the function `train_q`. It is very similar to `train_sarsa`, but for $Q$-learning we do not need `action_next` when we update the $Q$-function.\\\n",
    "现在我们实现$Q$-learning。首先定义函数`train_q`。它非常类似于`train_sarsa`，但是是关于$Q$-learning的，我们在更新$Q$-函数时不需要`action_next`。\n",
    "\n",
    "**Task:** Look through the code, and compare it with the pseudo-code in the slides of Lecture 3.\\\n",
    "浏览代码，并与第三节课幻灯片中的伪代码进行比较。"
   ]
  },
  {
   "cell_type": "markdown",
   "metadata": {},
   "source": [
    "## __Code:__ Function `train_q`"
   ]
  },
  {
   "cell_type": "code",
   "execution_count": 18,
   "metadata": {
    "pycharm": {
     "name": "#%%\n"
    }
   },
   "outputs": [],
   "source": [
    "def train_q(agent, env, n_episodes, max_steps = 50000):\n",
    "    step = 0\n",
    "    steps = np.zeros(n_episodes) # Steps after each episode\n",
    "    total_rewards = np.zeros(n_episodes)\n",
    "    for i in range(n_episodes):\n",
    "        state = env.reset()\n",
    "        rewards=0\n",
    "        done = False\n",
    "        while not done:\n",
    "            action = agent.act(state)\n",
    "            state_next, reward, done, info = env.step(action)\n",
    "            agent.learn(state, action, reward, state_next)\n",
    "            state = state_next\n",
    "            step += 1\n",
    "            rewards += reward\n",
    "            \n",
    "            if step > max_steps:\n",
    "                return steps, rewards\n",
    "            \n",
    "        steps[i] = step\n",
    "        total_rewards[i] = rewards\n",
    "    return total_rewards, steps"
   ]
  },
  {
   "cell_type": "markdown",
   "metadata": {},
   "source": [
    "Next we define the class `QAgent`. Note that the goal of $Q$-learning is to estimate the optimal $Q$-function while running a different behavioral policy. Here we implement the behavioral policy ($\\varepsilon$-greedy w.r.t to current estimate of $Q$) in `act`.\\\n",
    "接下来我们定义类`QAgent`。注意，$Q$-learning的目标是在运行不同的行为策略时估计最优的$Q$-函数。这里我们在`act`中实现了行为策略（关于$Q$当前估计$\\varepsilon$贪婪策略）。"
   ]
  },
  {
   "cell_type": "markdown",
   "metadata": {},
   "source": [
    "## **Task:** Implement Q-learning (Class `QAgent`)\n",
    "\n",
    "1. Implement the behavior policy in `act`. That is $\\varepsilon$-greedy w.r.t `self.Q`. ($\\varepsilon$ = `self.epsilon`)\n",
    "\n",
    "2. Implement the Q-learning update in `learn`."
   ]
  },
  {
   "cell_type": "code",
   "execution_count": 19,
   "metadata": {
    "pycharm": {
     "name": "#%%\n"
    }
   },
   "outputs": [],
   "source": [
    "class QAgent():\n",
    "    def __init__(self, n_states, n_actions, gamma, alpha, epsilon):\n",
    "        self.n_states = n_states\n",
    "        self.n_actions = n_actions\n",
    "        self.alpha = alpha\n",
    "        self.gamma = gamma\n",
    "        self.epsilon = epsilon\n",
    "        self.Q = np.zeros((n_states, n_actions))\n",
    "        \n",
    "        \n",
    "    def act(self, state):\n",
    "        # Implement the self.epsilon-greedy policy\n",
    "        if np.random.random() > self.epsilon:\n",
    "            action = np.argmax(self.Q[state])\n",
    "        else:\n",
    "            action = np.random.choice(self.n_actions) # Random action\n",
    "        return action\n",
    "            \n",
    "            \n",
    "    def learn(self, s, a, r, s_next):\n",
    "        # Implement the Q-learning update\n",
    "        maxQ = max(self.Q[s_next])\n",
    "        self.Q[s][a] += self.alpha * (r + self.gamma*maxQ - self.Q[s][a])"
   ]
  },
  {
   "cell_type": "markdown",
   "metadata": {},
   "source": [
    "## 5.1 Example 6.6. <a id=\"sec5_1\">"
   ]
  },
  {
   "cell_type": "markdown",
   "metadata": {},
   "source": [
    "We will now try out $Q$-learning and SARSA on the environment described in Example 6.6. Here the agent should go from start to goal, while avoiding the cliff region. If the agent steps into the cliff region it gets a reward of -100 and is returned to the start.\\\n",
    "现在我们将在示例6.6中描述的环境中尝试$Q$-learning和SARSA。在这里，agent应该从起点到目标，同时避免悬崖区域。如果代理进入悬崖区域，它将获得-100的奖励，并返回开始。\n",
    "        \n",
    "Lets look at the environment:"
   ]
  },
  {
   "cell_type": "code",
   "execution_count": 20,
   "metadata": {
    "pycharm": {
     "name": "#%%\n"
    }
   },
   "outputs": [
    {
     "name": "stdout",
     "output_type": "stream",
     "text": [
      "State space:  Discrete(48)\n",
      "Action space:  Discrete(4)\n"
     ]
    }
   ],
   "source": [
    "env = gym.make('cliff-v0')\n",
    "print(\"State space: \", env.observation_space)\n",
    "print(\"Action space: \", env.action_space)"
   ]
  },
  {
   "cell_type": "markdown",
   "metadata": {},
   "source": [
    "* **State space:** One state for each of the possible agent positions.\n",
    "* **Action space:** The actions are defined as in the windy grid world. That is <br>\n",
    "0 - West<br>\n",
    "1 - East<br>\n",
    "2 - North<br>\n",
    "3 - South<br>\n",
    "* **Reward:** -1 for each step, except when the agent enters the cliff region resulting in a -100 reward."
   ]
  },
  {
   "cell_type": "markdown",
   "metadata": {},
   "source": [
    "We will train one agent using $Q$-learning and one agent using SARSA.\\\n",
    "我们将使用$Q$-learning训练一个agent，使用SARSA训练一个agent。\n",
    "\n",
    "Both uses $\\gamma = 1$, $\\alpha = 0.3$ and $\\varepsilon = 0.1$.\\\n",
    "两者都使用$\\gamma = 1$， $\\alpha = 0.3$和$\\varepsilon = 0.1$。"
   ]
  },
  {
   "cell_type": "code",
   "execution_count": 21,
   "metadata": {
    "pycharm": {
     "name": "#%%\n"
    }
   },
   "outputs": [],
   "source": [
    "agentQ = QAgent(env.observation_space.n, env.action_space.n, gamma=1, alpha=0.3, epsilon=0.1)\n",
    "agentSARSA = SARSA(env.observation_space.n, env.action_space.n, gamma=1, alpha=0.3, epsilon=0.1)"
   ]
  },
  {
   "cell_type": "markdown",
   "metadata": {},
   "source": [
    "Train both agent for e.g. 1000 episodes\\\n",
    "训练两个agent，如1000个episode。"
   ]
  },
  {
   "cell_type": "code",
   "execution_count": 22,
   "metadata": {
    "pycharm": {
     "name": "#%%\n"
    }
   },
   "outputs": [],
   "source": [
    "train_q(agentQ, env, n_episodes = 1000)\n",
    "train_sarsa(agentSARSA, env, n_episodes = 1000);"
   ]
  },
  {
   "cell_type": "markdown",
   "metadata": {},
   "source": [
    "You can now test to run your two policies. \n",
    "\n",
    "**Note:** In both cases you use the `act`-method that is implemented with an $\\varepsilon$-greedy policy. To use the greedy policy w.r.t $Q$ we first have to set $\\varepsilon = 0$.\\\n",
    "在这两种情况下，您都使用了通过$\\varepsilon$贪婪策略实现的`act`方法。要使用关于$Q$的贪婪策略，我们首先必须设置$\\varepsilon = 0$。\n",
    "\n",
    "**Task:** Try to run both with $\\varepsilon$-greedy and greedy policies ($\\varepsilon = 0$)."
   ]
  },
  {
   "cell_type": "code",
   "execution_count": 23,
   "metadata": {
    "pycharm": {
     "name": "#%%\n"
    }
   },
   "outputs": [
    {
     "name": "stdout",
     "output_type": "stream",
     "text": [
      "Time step: 17\n",
      "Reward: 0\n",
      "Total reward: -16\n"
     ]
    }
   ],
   "source": [
    "#agentQ.epsilon = 0\n",
    "total_reward = test_policy(agentQ, env, max_steps=100)\n",
    "#agentQ.epsilon = 0.1"
   ]
  },
  {
   "cell_type": "code",
   "execution_count": 24,
   "metadata": {
    "pycharm": {
     "name": "#%%\n"
    }
   },
   "outputs": [
    {
     "name": "stdout",
     "output_type": "stream",
     "text": [
      "Time step: 20\n",
      "Reward: 0\n",
      "Total reward: -19\n"
     ]
    }
   ],
   "source": [
    "#agentSARSA.epsilon = 0\n",
    "total_reward = test_policy(agentSARSA, env, max_steps=100)\n",
    "#agentSARSA.epsilon = 0.1"
   ]
  },
  {
   "cell_type": "markdown",
   "metadata": {},
   "source": [
    "We can see that the two policies behaves quite differently. SARSA tries to learn the best $\\varepsilon$-soft policy while $Q$-learning tries to learn the optimal $q_*$.\\\n",
    "我们可以看到，这两种策略的表现相当不同。SARSA尝试学习最好的$\\varepsilon$-soft策略，而$Q$-learning尝试学习最优的$q_*$策略。\n",
    "\n",
    "In this example, the $Q$-learning algorithm will thus try to take as short path to the goal as possible. However, the SARSA-algorithm looks at $\\varepsilon$-soft policies, and thus also has to take into account that there is a non-zero probability that a non-greedy action is taken. Since the cost of moving into the cliff region is so large, it will take a safer path to ensure that a non-optimal action will not lead into the cliff.\\\n",
    "在这个例子中，$Q$-learning算法将尽可能地采用最短的路径达到目标。然而，SARSA算法考虑$\\varepsilon$-软策略，因此也必须考虑采取非贪婪行为的概率是非零。由于移动到悬崖区域的成本是如此之大，它将采取更安全的路径，以确保非最佳行动不会导致悬崖。\n",
    "\n",
    "### **Task:** Comparing $Q$-learning and SARSA\n",
    "**Task:** \n",
    "Below is a code that will run both the policies learned from $Q$-learning and SARSA 1000 times. It then prints the mean reward.\\\n",
    "下面的代码将运行从$Q$-learning和SARSA中学到的策略1000次。然后它会打印出平均reward。\n",
    "\n",
    "Try to run the code both using the $\\varepsilon$-greedy policies and the greedy policy ($\\varepsilon = 0$). We can see that if the policy is $\\varepsilon$-soft then the $Q$-learning version does worse because it more often moves into the cliff region. However, when we set $\\varepsilon=0$ then $Q$-learning is best because it takes the shortest path.\\\n",
    "尝试使用$\\varepsilon$贪婪策略和贪婪策略（$\\varepsilon = 0$）运行代码。我们可以看到，如果策略是$\\varepsilon$-soft，那么$Q$-learning版本的表现更差，因为它更经常地移动到悬崖区域。然而，当我们设置$\\varepsilon=0$时，$Q$-learning是最好的，因为它选择了最短的路径。"
   ]
  },
  {
   "cell_type": "code",
   "execution_count": 25,
   "metadata": {
    "pycharm": {
     "name": "#%%\n"
    }
   },
   "outputs": [
    {
     "name": "stdout",
     "output_type": "stream",
     "text": [
      "Mean reward Q:  -49.882\n",
      "Mean reward SARSA:  -21.434\n"
     ]
    }
   ],
   "source": [
    "n_episodes = 1000\n",
    "reward_Q = np.zeros(n_episodes)\n",
    "reward_SARSA = np.zeros(n_episodes)\n",
    "#agentQ.epsilon = 0\n",
    "#agentSARSA.epsilon = 0\n",
    "for k in range(n_episodes):\n",
    "    reward_Q[k] = test_policy(agentQ, env, max_steps=100, render=False)\n",
    "    reward_SARSA[k] = test_policy(agentSARSA, env, max_steps=100, render=False)\n",
    "\n",
    "#agentQ.epsilon = 0.1\n",
    "#agentSARSA.epsilon = 0.1\n",
    "    \n",
    "print(\"Mean reward Q: \", np.mean(reward_Q))\n",
    "print(\"Mean reward SARSA: \", np.mean(reward_SARSA))"
   ]
  },
  {
   "cell_type": "markdown",
   "metadata": {},
   "source": [
    "# 6. A note on exploration <a id=\"sec6\">"
   ]
  },
  {
   "cell_type": "markdown",
   "metadata": {},
   "source": [
    "In this notebook we have used $\\varepsilon$-greedy policies to ensure that we always continue to explore during training. However, there are other ways to get exploration and we will discuss them later in the course.\\\n",
    "在本笔记本中，我们使用了$\\varepsilon$贪婪策略，以确保我们总是在培训期间继续探索。然而，还有其他方法可以进行探索，我们将在稍后的课程中讨论它们。\n",
    "\n",
    "An easy way to at get at least temporary exploration would be to initialize your $Q$-function with large values compared to the best possible return (except for terminating states which should be initialized to 0).\\\n",
    "一种简单的方法来获得至少是暂时的探索，那就是初始化你的$Q$-函数，使用大的值，而不是最好的返回值(除了应该初始化为0的终止状态)。\n",
    "\n",
    "This would mean that state/action pairs that we have never seen before will have a large estimated value, and therefor the agent is encouraged to visit them.\\\n",
    "这意味着我们以前从未见过的状态/操作对将有一个很大的估计值，因此鼓励agent访问它们。\n",
    "\n",
    "For example, in the Windy GridWorld, the rewards are always negative. We initialize $Q$ with zeros. When we now are in a state and try an action, we will update the $Q$-value for this state/action pair to something negative. Next time we come to this state, the actions we have not tried yet all have estimated value 0, so they will look better!\\\n",
    "例如，在风大的网格世界中，奖励总是消极的。我们用0初始化$Q$。当我们现在处于一个状态并尝试一个操作时，我们将更新这个状态/操作对的$Q$-value为负值。下次我们来到这个状态的时候，我们还没有尝试过的动作都估计值为0，所以它们看起来会更好!\n",
    "\n",
    "\n",
    "**Task:** Try to train both `windy-grid-world-v0` and `GridWorld-5x5-AB-v0` with $\\varepsilon = 0$. Use the discussion above to explain the results.\\\n",
    "尝试用$\\varepsilon = 0$训练`windy-grid-world-v0`和`GridWorld-5x5-AB-v0`。使用上面的讨论来解释结果。"
   ]
  },
  {
   "cell_type": "markdown",
   "metadata": {},
   "source": [
    "# 7. \\* MountainCar-v0 <a id=\"sec7\">"
   ]
  },
  {
   "cell_type": "markdown",
   "metadata": {},
   "source": [
    "So far in the course we have looked at environment with a finite number of states and actions. Hence we can represent the $Q$-function as a matrix where each element corresponds to a state/action-pair. \n",
    "\n",
    "If the state (or action) space is continuous (infinitely many states) this is not possible. We will start looking in to these types of problems in Lecture 6. \n",
    "\n",
    "However, already now we can mention one simple trick that can sometimes work in these cases - namely discretization of the state space. \n",
    "\n",
    "As an example we look at the `MountainCar-v0` environment studied in Tinkering Notebook 1. Here the state contains two elements: the position and velocity of the car. \n",
    "\n",
    "**Idea:** We divide the state space into a number of discrete states as in the image below.\n",
    "<center><img src=\"./grid.png\"></center>\n",
    "Hence, every position/velocity pair that ends up in tile 4 is considered to be in state 4. An implication of this is that we learn the same $Q$-value for any position/velocity pair in tile 4 etc. Hence, the $Q$-values are now only approximations of the true $Q$-values, but if the grid is fine enough we may still be able to learn a good policy."
   ]
  },
  {
   "cell_type": "markdown",
   "metadata": {},
   "source": [
    "The function `toDiscreteState` can be used to divide the 2-dimensional state space of MountainCar into a tiles[0]  ×  tiles[1] grid. Given a 2-dimensional state of MountainCar it will return an integer representing the discretized state. It will be enough to use a  30×30  grid, i.e., 900 states. (It may also work well with fewer states)."
   ]
  },
  {
   "cell_type": "code",
   "execution_count": null,
   "metadata": {
    "pycharm": {
     "name": "#%%\n"
    }
   },
   "outputs": [],
   "source": [
    "def toDiscreteState(state, tiles=np.array([30,30])):\n",
    "    max_range = np.array([1.2, 0.07]) #  -1.2 <= pos <= 1.2, -0.07 <= vel <= 0.07\n",
    "    \n",
    "    state_tile = np.floor((tiles)*(state+max_range)/(2*max_range))\n",
    "    \n",
    "    if state_tile[0] >= tiles[0]:\n",
    "        state_tile[0] = tiles[0]-1\n",
    "    if state_tile[1] >= tiles[1]:\n",
    "        state_tile[1] = tiles[1]-1\n",
    "        \n",
    "    return int(state_tile[0]+state_tile[1]*tiles[0])"
   ]
  },
  {
   "cell_type": "markdown",
   "metadata": {},
   "source": [
    "The function `train_car` below can be used to train a SARSA-agent using the discretized states. It is implemented just as `train_sarsa` but uses the discreteized states instead of the true continuous states.\n",
    "\n",
    "We also define `test_car` that is similar to `test_policy` above, but uses `toDiscreteState`."
   ]
  },
  {
   "cell_type": "code",
   "execution_count": null,
   "metadata": {
    "pycharm": {
     "name": "#%%\n"
    }
   },
   "outputs": [],
   "source": [
    "def train_car(agent, env, n_episodes):\n",
    "    total_rewards = np.zeros(n_episodes)\n",
    "    for i in range(n_episodes):\n",
    "        state = env.reset()\n",
    "        state = toDiscreteState(state) # To discrete state!\n",
    "        action = agent.act(state)\n",
    "        rewards=0\n",
    "        done = False\n",
    "        while not done:\n",
    "            state_next, reward, done, info = env.step(action)\n",
    "            state_next = toDiscreteState(state_next) # To discrete state!\n",
    "            action_next = agent.act(state_next)\n",
    "            agent.learn(state, action, reward, state_next, action_next)\n",
    "            state = state_next\n",
    "            action = action_next\n",
    "            rewards += reward\n",
    "            \n",
    "        total_rewards[i] = rewards\n",
    "        \n",
    "        if i % 100 == 0:\n",
    "            clear_output(wait=True)\n",
    "            print(\"Episode\", i)\n",
    "            \n",
    "    clear_output(wait=True)\n",
    "    print(\"Done\")\n",
    "    return total_rewards\n",
    "\n",
    "def test_car(agent, env, wait=0.01, render=True): \n",
    "    state = toDiscreteState(env.reset())\n",
    "    step = 0\n",
    "    total_reward = 0\n",
    "    done = False\n",
    "    while not done:\n",
    "        action = agent.act(state)\n",
    "        state, reward, done, info = env.step(action)\n",
    "        state = toDiscreteState(state)\n",
    "        total_reward += reward\n",
    "        step += 1\n",
    "        \n",
    "        if render:\n",
    "            clear_output(wait=True)\n",
    "            env.render()\n",
    "            # Show some information\n",
    "            print(\"Time step:\", step)\n",
    "            print(\"Reward:\", reward)\n",
    "            print(\"Total reward:\", total_reward)\n",
    "            time.sleep(wait)\n",
    "    env.close()\n",
    "    return total_reward"
   ]
  },
  {
   "cell_type": "markdown",
   "metadata": {},
   "source": [
    "We use the SARSA-agent implemented previously. We use discount $\\gamma = 0.99$."
   ]
  },
  {
   "cell_type": "code",
   "execution_count": null,
   "metadata": {
    "pycharm": {
     "name": "#%%\n"
    }
   },
   "outputs": [],
   "source": [
    "env = gym.make('MountainCar-v0')\n",
    "agent = SARSA(30*30, 3, gamma=0.99, alpha=0.1, epsilon=0.1)"
   ]
  },
  {
   "cell_type": "markdown",
   "metadata": {},
   "source": [
    "This is a relatively hard problem to solve. The reward signal gives $-1$ for each step until the flag is reached. Hence, before the agent has reached the flag the first time all actions will look equally bad. For this reason you will probably not see any improvement at all for about 1000 episodes.  \n",
    "\n",
    "The environment has a time limit of 200 time steps. So if an episode goes on for longer than 200 time steps, it will be ended prematurely.\n",
    "\n",
    "Try to train it for 2000 episodes to start with (this will take some time). To find a policy that is near optimal, you will probably have to increase the number of episodes to at least 10 000. "
   ]
  },
  {
   "cell_type": "code",
   "execution_count": null,
   "metadata": {
    "pycharm": {
     "name": "#%%\n"
    }
   },
   "outputs": [],
   "source": [
    "n_episodes = 2000\n",
    "rewards = train_car(agent, env, n_episodes)"
   ]
  },
  {
   "cell_type": "markdown",
   "metadata": {},
   "source": [
    "We now plot the total rewards given after each episode. Note that, since the episode stops if the episode goes on for more than 200 time steps, to worst possible total reward we can get is -200."
   ]
  },
  {
   "cell_type": "code",
   "execution_count": null,
   "metadata": {
    "pycharm": {
     "name": "#%%\n"
    }
   },
   "outputs": [],
   "source": [
    "plt.plot(rewards)\n",
    "plt.xlabel('Episode')\n",
    "plt.ylabel('Total reward');"
   ]
  },
  {
   "cell_type": "markdown",
   "metadata": {},
   "source": [
    "Finally we test to see how the car behaves in practice. If it does not manage to reach the flag every time you run it, try to train it for more episodes. \n",
    "\n",
    "*Note:* If you re-run the code cell with `train_car` without resetting the agent, it will continue to train from your current estimated `Q`-function instead of restarting from scratch."
   ]
  },
  {
   "cell_type": "code",
   "execution_count": null,
   "metadata": {
    "pycharm": {
     "name": "#%%\n"
    }
   },
   "outputs": [],
   "source": [
    "agent.epsilon = 0\n",
    "total_reward = test_car(agent, env)\n",
    "agent.epsilon = 0.1"
   ]
  },
  {
   "cell_type": "markdown",
   "metadata": {},
   "source": [
    "**Note on exploration:** Here we again have a case where we initialize $Q$ to zero, but all rewards are negative. Hence, this will aid with the exploration, since $Q$ for actions not tested before will always look better than for actions we have tested previously. "
   ]
  },
  {
   "cell_type": "markdown",
   "metadata": {},
   "source": [
    "# RL BA2.4 - Q-learning, optimal policy, `Taxi-v3`"
   ]
  },
  {
   "cell_type": "markdown",
   "metadata": {},
   "source": [
    "Use Q-learning to find the optimal policy for the `Taxi-v3` environment. This is an undiscounted problem, i.e. $\\gamma = 1$. You can use $\\alpha = 0.1$, $\\varepsilon = 0.1$ and train on at least 10 000 episodes.\\\n",
    "使用Q-learning寻找`Taxi-v3`环境的最佳策略。这是一个未贴现的问题，即$\\gamma = 1$。你可以使用$\\alpha = 0.1$， $\\varepsilon = 0.1$，至少训练10000个episode。"
   ]
  },
  {
   "cell_type": "code",
   "execution_count": 26,
   "metadata": {},
   "outputs": [
    {
     "name": "stdout",
     "output_type": "stream",
     "text": [
      "State space:  Discrete(500)\n",
      "Action space:  Discrete(6)\n"
     ]
    }
   ],
   "source": [
    "env = gym.make('Taxi-v3')\n",
    "print(\"State space: \", env.observation_space)\n",
    "print(\"Action space: \", env.action_space)"
   ]
  },
  {
   "cell_type": "code",
   "execution_count": 27,
   "metadata": {},
   "outputs": [],
   "source": [
    "agentQ = QAgent(env.observation_space.n, env.action_space.n, gamma = 1, alpha = 0.1, epsilon = 0.1)"
   ]
  },
  {
   "cell_type": "code",
   "execution_count": 46,
   "metadata": {
    "scrolled": false
   },
   "outputs": [
    {
     "data": {
      "text/plain": [
       "(array([15., 27., 43., ...,  0.,  0.,  0.]), -1)"
      ]
     },
     "execution_count": 46,
     "metadata": {},
     "output_type": "execute_result"
    }
   ],
   "source": [
    "train_q(agentQ, env, n_episodes = 10000)"
   ]
  },
  {
   "cell_type": "code",
   "execution_count": 47,
   "metadata": {
    "scrolled": false
   },
   "outputs": [
    {
     "name": "stdout",
     "output_type": "stream",
     "text": [
      "+---------+\n",
      "|\u001b[35m\u001b[34;1m\u001b[43mR\u001b[0m\u001b[0m\u001b[0m: | : :G|\n",
      "| : | : : |\n",
      "| : : : : |\n",
      "| | : | : |\n",
      "|Y| : |B: |\n",
      "+---------+\n",
      "  (Dropoff)\n",
      "Time step: 16\n",
      "Reward: 20\n",
      "Total reward: 5\n"
     ]
    }
   ],
   "source": [
    "agentQ.epsilon = 0\n",
    "total_reward = test_policy(agentQ, env, max_steps = 100)"
   ]
  },
  {
   "cell_type": "code",
   "execution_count": 48,
   "metadata": {},
   "outputs": [],
   "source": [
    "def optimal_policy(env, Q):\n",
    "    n_states = env.observation_space.n\n",
    "    optimal_policy = np.zeros(n_states)\n",
    "    \n",
    "    for s in range(n_states):\n",
    "        optimal_policy[s] = np.argmax(Q[s,:])\n",
    "    \n",
    "    return optimal_policy"
   ]
  },
  {
   "cell_type": "code",
   "execution_count": 49,
   "metadata": {},
   "outputs": [
    {
     "data": {
      "text/plain": [
       "array([0., 4., 4., 4., 0., 0., 2., 0., 0., 0., 0., 0., 0., 0., 0., 0., 5.,\n",
       "       0., 0., 0., 0., 3., 3., 3., 0., 0., 0., 0., 0., 3., 0., 3., 0., 0.,\n",
       "       0., 0., 3., 0., 1., 0., 0., 0., 0., 0., 2., 0., 2., 2., 0., 0., 0.,\n",
       "       0., 2., 0., 2., 0., 0., 1., 0., 1., 0., 0., 0., 0., 2., 0., 2., 2.,\n",
       "       3., 0., 0., 0., 0., 0., 0., 0., 0., 2., 0., 0., 0., 0., 3., 0., 4.,\n",
       "       0., 4., 4., 0., 3., 0., 0., 3., 0., 3., 0., 0., 5., 3., 0., 0., 1.,\n",
       "       1., 1., 2., 0., 0., 0., 0., 0., 0., 0., 0., 0., 0., 0., 1., 2., 0.,\n",
       "       0., 0., 3., 1., 3., 0., 0., 0., 0., 0., 0., 0., 0., 0., 0., 0., 0.,\n",
       "       3., 0., 2., 0., 0., 0., 0., 0., 2., 0., 2., 2., 0., 0., 0., 0., 2.,\n",
       "       0., 2., 0., 0., 2., 0., 3., 0., 0., 0., 0., 2., 0., 2., 1., 0., 0.,\n",
       "       0., 3., 0., 0., 0., 0., 0., 2., 0., 0., 0., 3., 3., 3., 1., 0., 1.,\n",
       "       1., 0., 0., 0., 3., 3., 3., 0., 0., 3., 1., 3., 3., 0., 1., 1., 1.,\n",
       "       2., 0., 2., 2., 0., 0., 0., 0., 2., 2., 2., 0., 1., 2., 0., 2., 0.,\n",
       "       1., 1., 1., 2., 0., 2., 2., 3., 3., 0., 3., 2., 2., 2., 0., 3., 2.,\n",
       "       3., 2., 0., 3., 3., 3., 2., 0., 2., 1., 3., 3., 0., 3., 2., 2., 2.,\n",
       "       0., 3., 2., 3., 2., 0., 3., 3., 3., 2., 0., 1., 1., 3., 3., 0., 3.,\n",
       "       0., 0., 0., 0., 3., 1., 3., 0., 0., 3., 3., 3., 1., 0., 1., 1., 3.,\n",
       "       3., 0., 3., 0., 0., 3., 0., 3., 1., 3., 3., 0., 1., 1., 1., 1., 0.,\n",
       "       1., 1., 0., 0., 0., 0., 1., 1., 1., 0., 1., 1., 0., 1., 0., 1., 1.,\n",
       "       1., 2., 0., 1., 2., 1., 1., 0., 1., 1., 2., 1., 0., 3., 1., 1., 3.,\n",
       "       0., 1., 1., 3., 1., 0., 1., 1., 3., 1., 0., 3., 1., 1., 1., 0., 1.,\n",
       "       2., 2., 2., 0., 1., 1., 1., 1., 0., 1., 1., 1., 1., 0., 1., 0., 0.,\n",
       "       0., 0., 1., 1., 1., 0., 0., 3., 3., 3., 1., 0., 1., 1., 3., 3., 0.,\n",
       "       1., 3., 3., 3., 0., 0., 1., 1., 3., 0., 1., 1., 1., 1., 0., 1., 1.,\n",
       "       4., 4., 0., 4., 1., 1., 1., 0., 1., 1., 5., 1., 0., 1., 1., 1., 1.,\n",
       "       0., 1., 2., 1., 1., 0., 1., 1., 2., 1., 0., 1., 1., 0., 0., 0., 1.,\n",
       "       1., 3., 1., 0., 1., 1., 3., 1., 0., 1., 1., 1., 1., 0., 3., 0., 1.,\n",
       "       2., 0., 1., 1., 1., 1., 0., 1., 1., 1., 1., 0., 1., 4., 4., 4., 0.,\n",
       "       1., 1., 1., 5., 0., 3., 3., 1., 1., 0., 1., 1., 3., 3., 0., 1., 3.,\n",
       "       3., 3., 0., 3., 0., 2., 3.])"
      ]
     },
     "execution_count": 49,
     "metadata": {},
     "output_type": "execute_result"
    }
   ],
   "source": [
    "op = optimal_policy(env, agentQ.Q)\n",
    "op"
   ]
  },
  {
   "cell_type": "code",
   "execution_count": 52,
   "metadata": {},
   "outputs": [
    {
     "data": {
      "text/plain": [
       "4.0"
      ]
     },
     "execution_count": 52,
     "metadata": {},
     "output_type": "execute_result"
    }
   ],
   "source": [
    "op[1]"
   ]
  },
  {
   "cell_type": "code",
   "execution_count": 53,
   "metadata": {},
   "outputs": [
    {
     "data": {
      "text/plain": [
       "0.0"
      ]
     },
     "execution_count": 53,
     "metadata": {},
     "output_type": "execute_result"
    }
   ],
   "source": [
    "op[174]"
   ]
  },
  {
   "cell_type": "code",
   "execution_count": 54,
   "metadata": {},
   "outputs": [
    {
     "data": {
      "text/plain": [
       "1.0"
      ]
     },
     "execution_count": 54,
     "metadata": {},
     "output_type": "execute_result"
    }
   ],
   "source": [
    "op[186]"
   ]
  },
  {
   "cell_type": "code",
   "execution_count": 55,
   "metadata": {},
   "outputs": [
    {
     "data": {
      "text/plain": [
       "3.0"
      ]
     },
     "execution_count": 55,
     "metadata": {},
     "output_type": "execute_result"
    }
   ],
   "source": [
    "op[23]"
   ]
  },
  {
   "cell_type": "code",
   "execution_count": 56,
   "metadata": {},
   "outputs": [
    {
     "data": {
      "text/plain": [
       "1.0"
      ]
     },
     "execution_count": 56,
     "metadata": {},
     "output_type": "execute_result"
    }
   ],
   "source": [
    "op[422]"
   ]
  }
 ],
 "metadata": {
  "kernelspec": {
   "display_name": "PyCharm (PycharmProjects)",
   "language": "python",
   "name": "pycharm-53e69571"
  },
  "language_info": {
   "codemirror_mode": {
    "name": "ipython",
    "version": 3
   },
   "file_extension": ".py",
   "mimetype": "text/x-python",
   "name": "python",
   "nbconvert_exporter": "python",
   "pygments_lexer": "ipython3",
   "version": "3.8.5"
  },
  "toc": {
   "base_numbering": 1,
   "nav_menu": {},
   "number_sections": false,
   "sideBar": true,
   "skip_h1_title": false,
   "title_cell": "Table of Contents",
   "title_sidebar": "Contents",
   "toc_cell": false,
   "toc_position": {
    "height": "calc(100% - 180px)",
    "left": "10px",
    "top": "150px",
    "width": "327px"
   },
   "toc_section_display": true,
   "toc_window_display": true
  }
 },
 "nbformat": 4,
 "nbformat_minor": 4
}
