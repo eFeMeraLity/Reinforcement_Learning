{
 "cells": [
  {
   "cell_type": "markdown",
   "metadata": {},
   "source": [
    "# Environment Information\n",
    "* __System__: mac OS Big Sur 11.2.3\n",
    "* __Python__: 3.8\n",
    "* __Packgage__:\n",
    " * __gym__: 0.18.0\n",
    " * __pyglet__: 1.5.0\n",
    "* __IDE__: PyCharm"
   ]
  },
  {
   "cell_type": "markdown",
   "metadata": {
    "collapsed": true,
    "pycharm": {
     "name": "#%% md\n"
    }
   },
   "source": [
    "# ImportError\n",
    "\n",
    "* __Error description__:\\\n",
    "While running `env.render()`.\n",
    "\n",
    "\n",
    "* __Error message__:\n",
    "```python\n",
    "ImportError: Can't find framework /System/Library/Frameworks/OpenGL.framework.\n",
    "ImportError: Error occurred while running `from pyglet.gl import *`\n",
    "```\n",
    "\n",
    "* __Solution__:\n",
    "    * __Modify file `pyglet/lib.py`. (not recommended)__\\\n",
    "    https://github.com/pyglet/pyglet/issues/274#issuecomment-727584254\n",
    "        1. Changing the `find_framework` function in `site-packages/pyglet/lib.py`:\n",
    "        Open the file `pyglet/lib.py`:\n",
    "        ```shell\n",
    "        vim /usr/local/lib/python3.8/site-packages/pyglet/lib.py\n",
    "        ```\n",
    "        Change\n",
    "        ```python\n",
    "        def find_framework(path):\n",
    "            \"\"\"\n",
    "            Implement runtime framework search as described by:\n",
    "                       http://developer.apple.com/library/content/documentation/MacOSX/Conceptual/BPFrameworks/Concepts/FrameworkBinding.html\n",
    "            \"\"\"\n",
    "            # e.g. path == '/System/Library/Frameworks/OpenGL.framework'\n",
    "            #      name == 'OpenGL'\n",
    "            # return '/System/Library/Frameworks/OpenGL.framework/OpenGL'\n",
    "            name = os.path.splitext(os.path.split(path)[1])[0]\n",
    "    \n",
    "            realpath = os.path.join(path, name)\n",
    "            if os.path.exists(realpath):\n",
    "                return realpath\n",
    "    \n",
    "            for directory in ('/Library/Frameworks', '/System/Library/Frameworks'):\n",
    "                realpath = os.path.join(directory, '%s.framework' % name, name)\n",
    "                if os.path.exists(realpath):\n",
    "                    return realpath\n",
    "\n",
    "                return None\n",
    "        ```\n",
    "        to\n",
    "        ```python\n",
    "        def find_framework(path):\n",
    "            return '/System/Library/Frameworks/OpenGL.framework/OpenGL'\n",
    "        ```\n",
    "        Just comment the rest of the function.\\\n",
    "        Then, a different error then appears:\n",
    "        ```python\n",
    "        ValueError: dlsym(RTLD_DEFAULT, NSEventTrackingRunLoopMode): symbol not found\n",
    "        ```\n",
    "\n",
    "        2. To solve this problem, change the first line of the section commented as `APPLICATION KIT` (line 197) of `site-packages/pyglet/libs/darwin/cocoapy/cocoalibs.py`:\n",
    "        Open the file `cocoapy/cocoalibs.py`:\n",
    "        ```shell\n",
    "        vim /usr/local/lib/python3.8/site-packages/pyglet/libs/darwin/cocoapy/cocoalibs.py\n",
    "        ```\n",
    "        Change\n",
    "        ```python\n",
    "        appkit = cdll.LoadLibrary('/System/Library/Frameworks/AppKit.framework/AppKit')\n",
    "        ```\n",
    "    * __Install `pyglet==1.5.15`.__\\\n",
    "    A warning message will show up:\n",
    "    ```shell\n",
    "    ERROR: pip's dependency resolver does not currently take into account all the packages that are installed. This behaviour is the source of the following dependency conflicts.\n",
    "    gym 0.18.0 requires pyglet<=1.5.0,>=1.4.0, but you have pyglet 1.5.11 which is incompatible.\n",
    "    ```\n",
    "    Just ignore the message.\\\n",
    "    Remember to check if the `Preferences -> Python Interpreter` in PyCharm includes `pyglet` of version 1.5.11.\\\n",
    "    In the Jupyter, restart the kernel, it finally works!\\\n",
    "    QAQ 总算能用了，孩子要哭了……"
   ]
  }
 ],
 "metadata": {
  "kernelspec": {
   "display_name": "Python 3",
   "language": "python",
   "name": "python3"
  },
  "language_info": {
   "codemirror_mode": {
    "name": "ipython",
    "version": 3
   },
   "file_extension": ".py",
   "mimetype": "text/x-python",
   "name": "python",
   "nbconvert_exporter": "python",
   "pygments_lexer": "ipython3",
   "version": "3.8.8"
  },
  "toc": {
   "base_numbering": 1,
   "nav_menu": {},
   "number_sections": false,
   "sideBar": true,
   "skip_h1_title": false,
   "title_cell": "Table of Contents",
   "title_sidebar": "Contents",
   "toc_cell": false,
   "toc_position": {},
   "toc_section_display": true,
   "toc_window_display": false
  }
 },
 "nbformat": 4,
 "nbformat_minor": 1
}
